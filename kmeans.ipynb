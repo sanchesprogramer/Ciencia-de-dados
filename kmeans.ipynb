{
  "cells": [
    {
      "cell_type": "markdown",
      "metadata": {
        "id": "view-in-github",
        "colab_type": "text"
      },
      "source": [
        "<a href=\"https://colab.research.google.com/github/sanchesprogramer/Ciencia-de-dados/blob/main/kmeans.ipynb\" target=\"_parent\"><img src=\"https://colab.research.google.com/assets/colab-badge.svg\" alt=\"Open In Colab\"/></a>"
      ]
    },
    {
      "cell_type": "markdown",
      "source": [
        "*   Raphael Dias Sanches 10403418\n",
        "*   Felipe de Almeida Parreira 10400771\n",
        "\n"
      ],
      "metadata": {
        "id": "ambEuPL-ycIn"
      },
      "id": "ambEuPL-ycIn"
    },
    {
      "cell_type": "code",
      "execution_count": 3,
      "id": "9ad8a1ac",
      "metadata": {
        "id": "9ad8a1ac"
      },
      "outputs": [],
      "source": [
        "import numpy as np\n",
        "import pandas as pd\n",
        "from matplotlib import pyplot as plt\n",
        "from sklearn.model_selection import train_test_split\n",
        "from sklearn.preprocessing import StandardScaler\n",
        "from sklearn.neighbors import KNeighborsClassifier\n",
        "from sklearn.tree import DecisionTreeClassifier\n",
        "from sklearn.model_selection import cross_val_score\n",
        "from sklearn.metrics import accuracy_score, classification_report\n",
        "from sklearn.cluster import KMeans\n"
      ]
    },
    {
      "cell_type": "code",
      "execution_count": 12,
      "id": "7b7b313e",
      "metadata": {
        "id": "7b7b313e",
        "outputId": "5c8ba16c-95dd-4b1a-d2b2-a7bd9e4e397c",
        "colab": {
          "base_uri": "https://localhost:8080/"
        }
      },
      "outputs": [
        {
          "output_type": "stream",
          "name": "stdout",
          "text": [
            "Acurácia KNN: 0.17391304347826086\n",
            "Predição Decision Tree: ['C' 'C' 'A' 'A' 'C' 'B' 'C' 'C' 'C' 'B' 'C' 'C' 'B' 'B' 'C']\n",
            "Cross-validation scores: [0.33333333 0.33333333 0.33333333 0.26666667 0.53333333]\n",
            "Média dos CV scores: 0.36\n"
          ]
        }
      ],
      "source": [
        "curva_abc = pd.read_csv('https://raw.githubusercontent.com/sanchesprogramer/Ciencia-de-dados/main/trab2.csv', encoding='ISO-8859-1', sep='\\t')\n",
        "\n",
        "curva_abc['Tipo_De_Material'] = pd.factorize(curva_abc['Tipo_De_Material'])[0]\n",
        "curva_abc['Setor_Industrial'] = pd.factorize(curva_abc['Setor_Industrial'])[0]\n",
        "curva_abc['Unidade_Volume'] = pd.factorize(curva_abc['Unidade_Volume'])[0]\n",
        "\n",
        "X = curva_abc[['Tipo_De_Material', 'Setor_Industrial', 'Unidade_Volume', 'Custo (R$)', 'Peso (kg)']]\n",
        "y = curva_abc['Curva']\n",
        "\n",
        "X_train, X_test, y_train, y_test = train_test_split(X, y, test_size=0.3, random_state=42)\n",
        "\n",
        "scaler = StandardScaler()\n",
        "X_train_scaled = scaler.fit_transform(X_train)\n",
        "X_test_scaled = scaler.transform(X_test)\n",
        "\n",
        "knn = KNeighborsClassifier(n_neighbors=5)\n",
        "knn.fit(X_train_scaled, y_train)\n",
        "y_pred_knn = knn.predict(X_test_scaled)\n",
        "print(\"Acurácia KNN:\", accuracy_score(y_test, y_pred_knn))\n",
        "\n",
        "X_train, X_test, y_train, y_test = train_test_split(X, y, test_size=0.2, random_state=42)\n",
        "model = DecisionTreeClassifier(criterion='entropy')\n",
        "model.fit(X_train, y_train)\n",
        "predicted = model.predict(X_test)\n",
        "print(\"Predição Decision Tree:\", predicted)\n",
        "\n",
        "cv_scores = cross_val_score(model, X, y, cv=5)\n",
        "print(\"Cross-validation scores:\", cv_scores)\n",
        "print('Média dos CV scores:', np.mean(cv_scores))"
      ]
    }
  ],
  "metadata": {
    "kernelspec": {
      "display_name": "Python 3 (Spyder)",
      "language": "python3",
      "name": "python3"
    },
    "language_info": {
      "codemirror_mode": {
        "name": "ipython",
        "version": 3
      },
      "file_extension": ".py",
      "mimetype": "text/x-python",
      "name": "python",
      "nbconvert_exporter": "python",
      "pygments_lexer": "ipython3",
      "version": "3.9.13"
    },
    "colab": {
      "provenance": [],
      "include_colab_link": true
    }
  },
  "nbformat": 4,
  "nbformat_minor": 5
}