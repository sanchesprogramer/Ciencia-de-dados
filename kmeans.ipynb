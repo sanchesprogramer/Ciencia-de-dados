{
  "cells": [
    {
      "cell_type": "markdown",
      "metadata": {
        "id": "view-in-github",
        "colab_type": "text"
      },
      "source": [
        "<a href=\"https://colab.research.google.com/github/sanchesprogramer/Ciencia-de-dados/blob/main/kmeans.ipynb\" target=\"_parent\"><img src=\"https://colab.research.google.com/assets/colab-badge.svg\" alt=\"Open In Colab\"/></a>"
      ]
    },
    {
      "cell_type": "markdown",
      "source": [
        "*   Raphael Dias Sanches 10403418\n",
        "*   Felipe de Almeida Parreira 10400771\n",
        "\n"
      ],
      "metadata": {
        "id": "ambEuPL-ycIn"
      },
      "id": "ambEuPL-ycIn"
    },
    {
      "cell_type": "code",
      "execution_count": 4,
      "id": "9ad8a1ac",
      "metadata": {
        "id": "9ad8a1ac"
      },
      "outputs": [],
      "source": [
        "import numpy as np\n",
        "import pandas as pd\n",
        "from matplotlib import pyplot as plt\n",
        "from sklearn.model_selection import train_test_split\n",
        "from sklearn.preprocessing import StandardScaler\n",
        "from sklearn.neighbors import KNeighborsClassifier\n",
        "from sklearn.tree import DecisionTreeClassifier\n",
        "from sklearn.model_selection import cross_val_score\n",
        "from sklearn.metrics import accuracy_score, classification_report\n",
        "from sklearn.cluster import KMeans\n"
      ]
    },
    {
      "cell_type": "code",
      "source": [
        "curva_abc = pd.read_csv('https://raw.githubusercontent.com/sanchesprogramer/Ciencia-de-dados/main/trab11.csv', encoding='UTF-8', sep=';')\n",
        "curva_abc.head()\n",
        "curva_abc.shape"
      ],
      "metadata": {
        "colab": {
          "base_uri": "https://localhost:8080/"
        },
        "id": "5XKJye3PT21c",
        "outputId": "6a48c604-54ea-4f29-e43e-724a3defc266"
      },
      "id": "5XKJye3PT21c",
      "execution_count": 21,
      "outputs": [
        {
          "output_type": "execute_result",
          "data": {
            "text/plain": [
              "(141, 6)"
            ]
          },
          "metadata": {},
          "execution_count": 21
        }
      ]
    },
    {
      "cell_type": "code",
      "execution_count": 22,
      "id": "7b7b313e",
      "metadata": {
        "id": "7b7b313e",
        "outputId": "a122c50f-8229-4c4c-e52f-c7bc4aa37670",
        "colab": {
          "base_uri": "https://localhost:8080/"
        }
      },
      "outputs": [
        {
          "output_type": "stream",
          "name": "stdout",
          "text": [
            "Curva               0\n",
            "Tipo_De_Material    0\n",
            "Setor_Industrial    0\n",
            "Unidade_Volume      0\n",
            "Custo (R$)          0\n",
            "Volume (m³)         0\n",
            "dtype: int64\n",
            "Acurácia KNN: 0.4883720930232558\n",
            "Predição Decision Tree: ['B' 'C' 'B' 'B' 'C' 'C' 'B' 'C' 'C' 'B' 'B' 'B' 'C' 'C' 'C' 'C' 'B' 'B'\n",
            " 'B' 'C' 'B' 'C' 'C' 'C' 'B' 'B' 'B' 'B' 'C']\n",
            "Cross-validation scores: [0.4137931  0.60714286 0.64285714 0.46428571 0.42857143]\n",
            "Média dos CV scores: 0.5113300492610837\n"
          ]
        }
      ],
      "source": [
        "curva_abc['Tipo_De_Material'] = pd.factorize(curva_abc['Tipo_De_Material'])[0]\n",
        "curva_abc['Setor_Industrial'] = pd.factorize(curva_abc['Setor_Industrial'])[0]\n",
        "curva_abc['Unidade_Volume'] = pd.factorize(curva_abc['Unidade_Volume'])[0]\n",
        "\n",
        "X = curva_abc[['Tipo_De_Material', 'Setor_Industrial', 'Unidade_Volume', 'Custo (R$)', 'Volume (m³)']]\n",
        "y = curva_abc['Curva']\n",
        "\n",
        "X_train, X_test, y_train, y_test = train_test_split(X, y, test_size=0.3, random_state=42)\n",
        "\n",
        "scaler = StandardScaler()\n",
        "X_train_scaled = scaler.fit_transform(X_train)\n",
        "X_test_scaled = scaler.transform(X_test)\n",
        "\n",
        "knn = KNeighborsClassifier(n_neighbors=5)\n",
        "knn.fit(X_train_scaled, y_train)\n",
        "y_pred_knn = knn.predict(X_test_scaled)\n",
        "print(\"Acurácia KNN:\", accuracy_score(y_test, y_pred_knn))\n",
        "\n",
        "X_train, X_test, y_train, y_test = train_test_split(X, y, test_size=0.2, random_state=42)\n",
        "model = DecisionTreeClassifier(criterion='entropy')\n",
        "model.fit(X_train, y_train)\n",
        "predicted = model.predict(X_test)\n",
        "print(\"Predição Decision Tree:\", predicted)\n",
        "\n",
        "cv_scores = cross_val_score(model, X, y, cv=5)\n",
        "print(\"Cross-validation scores:\", cv_scores)\n",
        "print('Média dos CV scores:', np.mean(cv_scores))"
      ]
    }
  ],
  "metadata": {
    "kernelspec": {
      "display_name": "Python 3 (Spyder)",
      "language": "python3",
      "name": "python3"
    },
    "language_info": {
      "codemirror_mode": {
        "name": "ipython",
        "version": 3
      },
      "file_extension": ".py",
      "mimetype": "text/x-python",
      "name": "python",
      "nbconvert_exporter": "python",
      "pygments_lexer": "ipython3",
      "version": "3.9.13"
    },
    "colab": {
      "provenance": [],
      "include_colab_link": true
    }
  },
  "nbformat": 4,
  "nbformat_minor": 5
}